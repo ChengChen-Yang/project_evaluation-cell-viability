{
 "cells": [
  {
   "cell_type": "code",
   "execution_count": null,
   "metadata": {},
   "outputs": [],
   "source": [
    "import cv2\n",
    "import glob\n",
    "import pandas as pd\n",
    "import numpy as np\n",
    "import random"
   ]
  },
  {
   "cell_type": "markdown",
   "metadata": {},
   "source": [
    "# 整理輸入資料"
   ]
  },
  {
   "cell_type": "code",
   "execution_count": null,
   "metadata": {},
   "outputs": [],
   "source": [
    "df = pd.read_csv('./cell_density_200614.csv')\n",
    "df = df.loc[:,['file_name','total_cell_coverage']]\n",
    "df\n"
   ]
  },
  {
   "cell_type": "markdown",
   "metadata": {},
   "source": [
    "# 隨機看一下圖片"
   ]
  },
  {
   "cell_type": "code",
   "execution_count": null,
   "metadata": {},
   "outputs": [],
   "source": [
    "row = random.randint(0,528)\n",
    "print('row', row)\n",
    "c = df.iloc[row:row+1,1].values\n",
    "\n",
    "from keras.preprocessing.image import load_img\n",
    "path = './cell_img/train_img/'+df.iloc[row]['file_name']\n",
    "img = load_img(path,target_size=(150,150))\n",
    "print('size:', img.size, 'coverage:',c)\n",
    "img"
   ]
  },
  {
   "cell_type": "markdown",
   "metadata": {},
   "source": [
    "# 建立模型"
   ]
  },
  {
   "cell_type": "code",
   "execution_count": null,
   "metadata": {},
   "outputs": [],
   "source": [
    "from keras.applications.resnet50 import ResNet50\n",
    "from keras.models import load_model, Model\n",
    "from keras.layers import Flatten, Dense, Dropout, BatchNormalization"
   ]
  },
  {
   "cell_type": "code",
   "execution_count": null,
   "metadata": {},
   "outputs": [],
   "source": [
    "resnet50 = ResNet50(include_top = False,\n",
    "                   weights = 'imagenet',\n",
    "                   input_shape = (150, 150, 3))\n",
    "\n",
    "# ==================== 移植 Restnet50 (眼睛) =========================\n",
    "for l in resnet50.layers:\n",
    "    l.trainavle = False # 不需要 train Restnet50 中 CNN 的 weight\n",
    "    \n",
    "# ==================== 開始建構 MLP (大腦) =========================\n",
    "x = BatchNormalization()(resnet50.output)\n",
    "x = Flatten()(x)\n",
    "x = Dense(units = 512, activation = 'relu')(x)\n",
    "x = Dropout(0.25)(x)\n",
    "x = Dense(units = 256, activation = 'relu')(x)\n",
    "x = Dropout(0.25)(x)\n",
    "x = Dense(units = 128, activation = 'relu')(x)\n",
    "x = Dense(units = 64, activation = 'relu')(x)\n",
    "x = Dense(units = 1, activation = 'sigmoid')(x)\n",
    "# ==================== 合併 Restnet50 (眼睛) 和 MLP (大腦) =========================\n",
    "cnn = Model (input = resnet50.input, output = x)\n",
    "cnn.summary()"
   ]
  },
  {
   "cell_type": "markdown",
   "metadata": {},
   "source": [
    "# Compile"
   ]
  },
  {
   "cell_type": "code",
   "execution_count": null,
   "metadata": {},
   "outputs": [],
   "source": [
    "cnn.compile(loss = 'mse', optimizer = 'adam', metrics = ['accuracy'])"
   ]
  },
  {
   "cell_type": "markdown",
   "metadata": {},
   "source": [
    "# 訓練資料的前處理"
   ]
  },
  {
   "cell_type": "code",
   "execution_count": null,
   "metadata": {},
   "outputs": [],
   "source": [
    "np.array(path)\n",
    "\n",
    "path_list = list(df['file_name'])\n",
    "path_list\n",
    "paths = ['./cell_img/train_img/'+i for i in path_list]\n",
    "paths"
   ]
  },
  {
   "cell_type": "code",
   "execution_count": null,
   "metadata": {},
   "outputs": [],
   "source": [
    "from sklearn.model_selection import train_test_split\n",
    "\n",
    "path_list = list(df['file_name'])\n",
    "paths = ['./cell_img/train_img/'+ i for i in path_list]\n",
    "x_train, x_test, y_train, y_test = train_test_split(np.array(paths),\n",
    "                                                   np.array(df['total_cell_coverage']),\n",
    "                                                    test_size = 0.1)"
   ]
  },
  {
   "cell_type": "markdown",
   "metadata": {},
   "source": [
    "# 展示 resnet50 的專用圖片前處理 (後面會再加入程式碼中)"
   ]
  },
  {
   "cell_type": "code",
   "execution_count": null,
   "metadata": {},
   "outputs": [],
   "source": [
    "# 選擇處理圖片資訊 np 的方式, 因為 resnet50 當初論文有自己的前處理方式, 一定要按照論文的處理方式,\n",
    "# 才能對應到 resnet50 的 weights\n",
    "\n",
    "from keras.applications.resnet50 import preprocess_input\n",
    "img = load_img(x_train[0])\n",
    "preprocess_input(np.array(img))"
   ]
  },
  {
   "cell_type": "code",
   "execution_count": null,
   "metadata": {},
   "outputs": [],
   "source": [
    "epoch =15 # 訓練次數\n",
    "batch = 50  # 每次訓練都畫隨機抓 50 個圖進行且更新 weight\n",
    "\n",
    "acc_track = [] # 裝每次訓練次數的 acc\n",
    "loss_track = [] # 裝每次訓練 loss\n",
    "time_axis = [] # 裝訓練次數, 等等畫圖用的\n",
    "\n",
    "\n",
    "for each_epoch in range (epoch):\n",
    "    idx = np.random.randint(0, len(x_train), 50)\n",
    "    xs = []\n",
    "    ys = y_train[idx]\n",
    "    for b in x_train[idx]:\n",
    "        img = load_img(b, target_size = (150, 150, 3))\n",
    "        img = preprocess_input(np.array(img))\n",
    "        xs.append(img)\n",
    "    loss = cnn.train_on_batch(np.array(xs),ys )\n",
    "    loss_track.append(loss[0])\n",
    "    acc_track.append(loss[1])\n",
    "    time_axis.append(each_epoch)\n",
    "    print('================== epoch: {e}========================'.format(e = each_epoch))\n",
    "    print(loss)\n",
    "    "
   ]
  },
  {
   "cell_type": "code",
   "execution_count": null,
   "metadata": {},
   "outputs": [],
   "source": []
  },
  {
   "cell_type": "code",
   "execution_count": null,
   "metadata": {},
   "outputs": [],
   "source": []
  },
  {
   "cell_type": "code",
   "execution_count": null,
   "metadata": {},
   "outputs": [],
   "source": []
  },
  {
   "cell_type": "code",
   "execution_count": null,
   "metadata": {},
   "outputs": [],
   "source": []
  },
  {
   "cell_type": "code",
   "execution_count": null,
   "metadata": {},
   "outputs": [],
   "source": []
  },
  {
   "cell_type": "code",
   "execution_count": null,
   "metadata": {},
   "outputs": [],
   "source": []
  },
  {
   "cell_type": "code",
   "execution_count": null,
   "metadata": {},
   "outputs": [],
   "source": []
  },
  {
   "cell_type": "code",
   "execution_count": null,
   "metadata": {},
   "outputs": [],
   "source": []
  }
 ],
 "metadata": {
  "kernelspec": {
   "display_name": "Python 3",
   "language": "python",
   "name": "python3"
  },
  "language_info": {
   "codemirror_mode": {
    "name": "ipython",
    "version": 3
   },
   "file_extension": ".py",
   "mimetype": "text/x-python",
   "name": "python",
   "nbconvert_exporter": "python",
   "pygments_lexer": "ipython3",
   "version": "3.6.10"
  }
 },
 "nbformat": 4,
 "nbformat_minor": 4
}
